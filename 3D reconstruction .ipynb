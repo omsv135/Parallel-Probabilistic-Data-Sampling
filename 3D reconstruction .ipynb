{
 "cells": [
  {
   "cell_type": "code",
   "execution_count": 28,
   "metadata": {},
   "outputs": [
    {
     "name": "stdout",
     "output_type": "stream",
     "text": [
      "Defaulting to user installation because normal site-packages is not writeable\n",
      "\u001b[31mERROR: Could not find a version that satisfies the requirement vtki (from versions: none)\u001b[0m\u001b[31m\n",
      "\u001b[0m\u001b[31mERROR: No matching distribution found for vtki\u001b[0m\u001b[31m\n",
      "\u001b[0mNote: you may need to restart the kernel to use updated packages.\n"
     ]
    }
   ],
   "source": [
    "pip install vtki"
   ]
  },
  {
   "cell_type": "code",
   "execution_count": 1,
   "metadata": {},
   "outputs": [],
   "source": [
    "#Import all the necessary libraries\n",
    "import vtk\n",
    "import numpy as np\n",
    "from vtk.util.numpy_support import vtk_to_numpy\n",
    "import math\n",
    "import pyevtk\n",
    "from matplotlib import pyplot as plt\n",
    "from scipy.interpolate import RegularGridInterpolator\n",
    "from mpl_toolkits.mplot3d import Axes3D  # Required for 3D plotting\n",
    "import pyvista as pv\n",
    "from scipy.spatial import Delaunay\n",
    "from mpl_toolkits.mplot3d.art3d import Poly3DCollection\n",
    "#from enthought.tvtk.api import tvtk, write_data\n",
    "from scipy.interpolate import griddata\n",
    "from pyevtk.hl import gridToVTK\n",
    "import random"
   ]
  },
  {
   "cell_type": "code",
   "execution_count": 2,
   "metadata": {},
   "outputs": [],
   "source": [
    "#Load the dataset\n",
    "reader = vtk.vtkXMLImageDataReader()\n",
    "reader.SetFileName(\"Isabel_Pressure_25.vti\")\n",
    "reader.Update()\n",
    "imageData = reader.GetOutput() #read data"
   ]
  },
  {
   "cell_type": "code",
   "execution_count": 19,
   "metadata": {},
   "outputs": [
    {
     "data": {
      "text/plain": [
       "(250, 250, 50)"
      ]
     },
     "execution_count": 19,
     "metadata": {},
     "output_type": "execute_result"
    }
   ],
   "source": [
    "#Convert the data into numpy array format\n",
    "temp = vtk_to_numpy(imageData.GetPointData().GetScalars())\n",
    "dims = imageData.GetDimensions()\n",
    "dat = temp.reshape(dims[2], dims[1], dims[0])\n",
    "dat = dat.transpose(2,1,0)\n",
    "\n",
    "dat.shape\n",
    " #dimensions of the data\n",
    "#dat[249][249][49]"
   ]
  },
  {
   "cell_type": "code",
   "execution_count": 20,
   "metadata": {
    "scrolled": true
   },
   "outputs": [
    {
     "data": {
      "text/plain": [
       "(250, 250, 50)"
      ]
     },
     "execution_count": 20,
     "metadata": {},
     "output_type": "execute_result"
    }
   ],
   "source": [
    "original_data.shape"
   ]
  },
  {
   "cell_type": "code",
   "execution_count": 25,
   "metadata": {
    "scrolled": true
   },
   "outputs": [
    {
     "name": "stdout",
     "output_type": "stream",
     "text": [
      "saving started\n"
     ]
    },
    {
     "data": {
      "text/plain": [
       "'/home/aashi/Desktop/CS677_project/100%_reconstructed.vtr'"
      ]
     },
     "execution_count": 25,
     "metadata": {},
     "output_type": "execute_result"
    }
   ],
   "source": [
    "  # Replace with your actual data\n",
    "\n",
    "# Define the percentage of data you have (e.g., 5%)\n",
    "    \n",
    "original_data=dat\n",
    "data_percentage =  5/100\n",
    "\n",
    "# Calculate the number of known data points\n",
    "num_known_points = int(np.prod(original_data.shape) * data_percentage)\n",
    "#print(num_known_points)\n",
    "# Randomly select known data points\n",
    "known_coordinates = np.column_stack([np.random.randint(0, 250, num_known_points),\n",
    "                                     np.random.randint(0, 250, num_known_points),\n",
    "                                     np.random.randint(0, 50, num_known_points)])\n",
    "# Extract the values at the known coordinates\n",
    "known_values = original_data[known_coordinates[:, 0], known_coordinates[:, 1], known_coordinates[:, 2]]\n",
    "#print(known_values.shape())\n",
    "# Create a grid of coordinates for the entire 3D space\n",
    "x = np.arange(original_data.shape[0])\n",
    "y = np.arange(original_data.shape[1])\n",
    "z = np.arange(original_data.shape[2])\n",
    "interpolator = RegularGridInterpolator((x, y, z), original_data, method='linear', bounds_error=False, fill_value=None)\n",
    "\n",
    "# Define the grid of coordinates for the entire 3D space\n",
    "grid_x, grid_y, grid_z = np.meshgrid(x, y, z, indexing='ij')\n",
    "# Create an array of coordinates for the entire grid\n",
    "grid_coordinates = np.column_stack([grid_x.ravel(), grid_y.ravel(), grid_z.ravel()])\n",
    "reconstructed_data = griddata(known_coordinates, known_values, (grid_x, grid_y, grid_z), method='nearest')\n",
    "\n",
    "#point_cloud = np.column_stack([grid_x.ravel(), grid_y.ravel(), grid_z.ravel()])\n",
    "\n",
    "# # Perform 3D Delaunay triangulation to create a mesh\n",
    "#tri = Delaunay(point_cloud)\n",
    "\n",
    "# # Extract the triangles from the Delaunay triangulation\n",
    "#triangles = point_cloud[tri.simplices]\n",
    "\n",
    "# # Plot the reconstructed 3D surface\n",
    "# fig = plt.figure()\n",
    "# ax = fig.add_subplot(111, projection='3d')\n",
    "\n",
    "# # Create a Poly3DCollection from the triangles\n",
    "#mesh = Poly3DCollection(triangles, edgecolor='k')\n",
    "print(\"saving started\")\n",
    "\n",
    "gridToVTK(\"100%_reconstructed\", x=np.array(range(reconstructed_data.shape[0])), y=np.array(range(reconstructed_data.shape[1])), z=np.array(range(reconstructed_data.shape[2])), cellData={'data': reconstructed_data})\n",
    "\n",
    "# #ax.add_collection3d(mesh)\n",
    "# ax.set_xlabel('X-axis')\n",
    "# ax.set_ylabel('Y-axis')\n",
    "# ax.set_zlabel('Z-axis')\n",
    "\n",
    "\n",
    "#plt.show()\n",
    "# Interpolate the missing data points\n",
    "#reconstructed_data = interpolator(grid_coordinates).reshape(original_data.shape)\n",
    "\n",
    "# You can visualize the reconstructed data using a library like Matplotlib or a 3D visualization library.\n",
    "# # Create a 3D figure\n",
    "# fig = plt.figure(figsize=(12, 6))\n",
    "# # Subplot for original data\n",
    "# ax1 = fig.add_subplot(121, projection='3d')\n",
    "# x, y, z = np.meshgrid(np.arange(original_data.shape[0]), np.arange(original_data.shape[1]), np.arange(original_data.shape[2]), indexing='ij')\n",
    "# ax1.scatter(x, y, z, c=original_data, cmap='spring', marker='o',alpha=0.01)\n",
    "# ax1.set_xlabel('X-axis')\n",
    "# ax1.set_ylabel('Y-axis')\n",
    "# ax1.set_zlabel('Z-axis')\n",
    "# ax1.set_title('Original 3D Data')\n",
    "# # Subplot for reconstructed data\n",
    "# ax2 = fig.add_subplot(122, projection='3d')\n",
    "# ax2.scatter(x,y,z, c=reconstructed_data, cmap='spring', marker='o',alpha=0.01)\n",
    "# ax2.set_xlabel('X-axis')\n",
    "# ax2.set_ylabel('Y-axis')\n",
    "# ax2.set_zlabel('Z-axis')\n",
    "# ax2.set_title('Reconstructed 3D Data')\n",
    "\n",
    "# # Display the plot\n",
    "# plt.show()"
   ]
  },
  {
   "cell_type": "code",
   "execution_count": 48,
   "metadata": {
    "scrolled": true
   },
   "outputs": [
    {
     "name": "stdout",
     "output_type": "stream",
     "text": [
      "[11.282787883586966]\n",
      "[11.282787883586966, 14.333217501652054]\n",
      "[11.282787883586966, 14.333217501652054, 15.545501488592436]\n",
      "[11.282787883586966, 14.333217501652054, 15.545501488592436, 16.343505264663683]\n",
      "[11.282787883586966, 14.333217501652054, 15.545501488592436, 16.343505264663683, 17.05086673899431]\n",
      "[11.282787883586966, 14.333217501652054, 15.545501488592436, 16.343505264663683, 17.05086673899431, 17.606329383545454]\n",
      "[11.282787883586966, 14.333217501652054, 15.545501488592436, 16.343505264663683, 17.05086673899431, 17.606329383545454, 18.02827638488256]\n",
      "[11.282787883586966, 14.333217501652054, 15.545501488592436, 16.343505264663683, 17.05086673899431, 17.606329383545454, 18.02827638488256, 18.453423812333803]\n",
      "[11.282787883586966, 14.333217501652054, 15.545501488592436, 16.343505264663683, 17.05086673899431, 17.606329383545454, 18.02827638488256, 18.453423812333803, 18.636962722913143]\n",
      "[11.282787883586966, 14.333217501652054, 15.545501488592436, 16.343505264663683, 17.05086673899431, 17.606329383545454, 18.02827638488256, 18.453423812333803, 18.636962722913143, 19.171387757932884]\n"
     ]
    }
   ],
   "source": [
    "snr = []*10\n",
    "k=1\n",
    "for i in range(1,100,10):\n",
    "    data_percentage =  i/100\n",
    "\n",
    "    # Calculate the number of known data points\n",
    "    num_known_points = int(np.prod(original_data.shape) * data_percentage)\n",
    "    #print(num_known_points)\n",
    "    # Randomly select known data points\n",
    "    known_coordinates = np.column_stack([np.random.randint(0, 250, num_known_points),\n",
    "                                         np.random.randint(0, 250, num_known_points),\n",
    "                                         np.random.randint(0, 50, num_known_points)])\n",
    "    # Extract the values at the known coordinates\n",
    "    known_values = original_data[known_coordinates[:, 0], known_coordinates[:, 1], known_coordinates[:, 2]]\n",
    "    #print(known_values.shape())\n",
    "    # Create a grid of coordinates for the entire 3D space\n",
    "    x = np.arange(original_data.shape[0])\n",
    "    y = np.arange(original_data.shape[1])\n",
    "    z = np.arange(original_data.shape[2])\n",
    "    interpolator = RegularGridInterpolator((x, y, z), original_data, method='linear', bounds_error=False, fill_value=None)\n",
    "\n",
    "    # Define the grid of coordinates for the entire 3D space\n",
    "    grid_x, grid_y, grid_z = np.meshgrid(x, y, z, indexing='ij')\n",
    "    # Create an array of coordinates for the entire grid\n",
    "    grid_coordinates = np.column_stack([grid_x.ravel(), grid_y.ravel(), grid_z.ravel()])\n",
    "    reconstructed_data = griddata(known_coordinates, known_values, (grid_x, grid_y, grid_z), method='nearest')\n",
    "    signal_power = np.std(original_data)  # For mean power, you can also use np.max(original_data) for peak power\n",
    "\n",
    "    # Calculate the mean or peak noise power\n",
    "    noise = original_data - reconstructed_data\n",
    "    noise_power = np.std(noise)  # For mean power, you can also use np.max(noise ** 2) for peak power\n",
    "\n",
    "    # Calculate SNR\n",
    "    snr.append(20*np.log10(signal_power/noise_power))\n",
    "    print(snr)\n",
    "    k= k+1\n",
    "\n",
    "\n",
    "\n"
   ]
  },
  {
   "cell_type": "code",
   "execution_count": 56,
   "metadata": {},
   "outputs": [
    {
     "data": {
      "text/plain": [
       "11"
      ]
     },
     "execution_count": 56,
     "metadata": {},
     "output_type": "execute_result"
    }
   ],
   "source": [
    "len(range(0,101,10))"
   ]
  },
  {
   "cell_type": "code",
   "execution_count": 62,
   "metadata": {},
   "outputs": [
    {
     "data": {
      "text/plain": [
       "Text(0, 0.5, 'SNR values')"
      ]
     },
     "execution_count": 62,
     "metadata": {},
     "output_type": "execute_result"
    },
    {
     "data": {
      "image/png": "[encoded data removed]",
      "text/plain": [
       "<Figure size 432x288 with 1 Axes>"
      ]
     },
     "metadata": {
      "needs_background": "light"
     },
     "output_type": "display_data"
    }
   ],
   "source": [
    "plt.plot(range(0,100,10),snr,\"-o\")\n",
    "plt.xlabel(\"Sampling percentage\")\n",
    "plt.ylabel(\"SNR values\")"
   ]
  },
  {
   "cell_type": "code",
   "execution_count": null,
   "metadata": {},
   "outputs": [],
   "source": []
  },
  {
   "cell_type": "code",
   "execution_count": 37,
   "metadata": {},
   "outputs": [
    {
     "name": "stdout",
     "output_type": "stream",
     "text": [
      "Signal-to-Noise Ratio (SNR): -21.62087789357219 dB\n"
     ]
    }
   ],
   "source": [
    "signal_power = np.mean(original_data)  # For mean power, you can also use np.max(original_data) for peak power\n",
    "\n",
    "# Calculate the mean or peak noise power\n",
    "noise = original_data - reconstructed_data\n",
    "noise_power = np.mean(noise ** 2)  # For mean power, you can also use np.max(noise ** 2) for peak power\n",
    "\n",
    "# Calculate SNR\n",
    "snr = 10 * np.log10(signal_power/noise_power)\n",
    "\n",
    "print(f\"Signal-to-Noise Ratio (SNR): {snr} dB\")"
   ]
  },
  {
   "cell_type": "code",
   "execution_count": null,
   "metadata": {},
   "outputs": [],
   "source": [
    "isosurface = grid.extract_iso_surfaces(0.5)\n",
    "\n",
    "# Plot the isosurface\n",
    "plotter = pv.Plotter()\n",
    "plotter.add_mesh(isosurface, color='blue', opacity=0.6)\n",
    "plotter.show()"
   ]
  },
  {
   "cell_type": "code",
   "execution_count": null,
   "metadata": {},
   "outputs": [],
   "source": [
    "grid = pv.StructuredGrid()\n",
    "grid.points = pv.pyvista_ndarray(np.column_stack([x.ravel(), y.ravel(), z.ravel()]))\n",
    "grid['Reconstructed Data'] = reconstructed_data.ravel()\n",
    "\n",
    "# Plot the volume rendering\n",
    "plotter = pv.Plotter()\n",
    "plotter.add_volume(grid)\n",
    "plotter.show()"
   ]
  }
 ],
 "metadata": {
  "kernelspec": {
   "display_name": "Python 3",
   "language": "python",
   "name": "python3"
  },
  "language_info": {
   "codemirror_mode": {
    "name": "ipython",
    "version": 3
   },
   "file_extension": ".py",
   "mimetype": "text/x-python",
   "name": "python",
   "nbconvert_exporter": "python",
   "pygments_lexer": "ipython3",
   "version": "3.8.10"
  }
 },
 "nbformat": 4,
 "nbformat_minor": 5
}
