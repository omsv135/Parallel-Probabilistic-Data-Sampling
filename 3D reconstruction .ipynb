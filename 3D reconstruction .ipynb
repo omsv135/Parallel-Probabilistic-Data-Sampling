{
 "cells": [
  {
   "cell_type": "code",
   "execution_count": 27,
   "metadata": {},
   "outputs": [
    {
     "name": "stdout",
     "output_type": "stream",
     "text": [
      "Defaulting to user installation because normal site-packages is not writeable\n",
      "\u001b[31mERROR: Could not find a version that satisfies the requirement vtki (from versions: none)\u001b[0m\u001b[31m\n",
      "\u001b[0m\u001b[31mERROR: No matching distribution found for vtki\u001b[0m\u001b[31m\n",
      "\u001b[0m\n",
      "\u001b[1m[\u001b[0m\u001b[34;49mnotice\u001b[0m\u001b[1;39;49m]\u001b[0m\u001b[39;49m A new release of pip is available: \u001b[0m\u001b[31;49m23.2.1\u001b[0m\u001b[39;49m -> \u001b[0m\u001b[32;49m23.3.1\u001b[0m\n",
      "\u001b[1m[\u001b[0m\u001b[34;49mnotice\u001b[0m\u001b[1;39;49m]\u001b[0m\u001b[39;49m To update, run: \u001b[0m\u001b[32;49mpython3 -m pip install --upgrade pip\u001b[0m\n"
     ]
    }
   ],
   "source": [
    "!pip install vtki"
   ]
  },
  {
   "cell_type": "code",
   "execution_count": 1,
   "metadata": {},
   "outputs": [],
   "source": [
    "#Import all the necessary libraries\n",
    "import vtk\n",
    "import numpy as np\n",
    "from vtk.util.numpy_support import vtk_to_numpy\n",
    "import math\n",
    "import pyevtk\n",
    "from matplotlib import pyplot as plt\n",
    "from scipy.interpolate import RegularGridInterpolator\n",
    "from mpl_toolkits.mplot3d import Axes3D  # Required for 3D plotting\n",
    "import pyvista as pv\n",
    "from scipy.spatial import Delaunay\n",
    "from mpl_toolkits.mplot3d.art3d import Poly3DCollection\n",
    "#from enthought.tvtk.api import tvtk, write_data\n",
    "from scipy.interpolate import griddata\n",
    "from pyevtk.hl import gridToVTK\n",
    "import random"
   ]
  },
  {
   "cell_type": "code",
   "execution_count": 2,
   "metadata": {
    "scrolled": true
   },
   "outputs": [
    {
     "data": {
      "text/plain": [
       "(750, 750, 150)"
      ]
     },
     "execution_count": 2,
     "metadata": {},
     "output_type": "execute_result"
    }
   ],
   "source": [
    "#Load the large dataset\n",
    "reader = vtk.vtkXMLImageDataReader()\n",
    "reader.SetFileName(\"Isabel_Pressure_Large.vti\")\n",
    "reader.Update()\n",
    "imageData = reader.GetOutput() #read data\n",
    "#Convert the data into numpy array format\n",
    "temp = vtk_to_numpy(imageData.GetPointData().GetScalars())\n",
    "dims = imageData.GetDimensions()\n",
    "dat = temp.reshape(dims[2], dims[1], dims[0])\n",
    "dat = dat.transpose(2,1,0)\n",
    "original_data=dat\n",
    "\n",
    " #dimensions of the data\n",
    "dat.shape"
   ]
  },
  {
   "cell_type": "code",
   "execution_count": 7,
   "metadata": {},
   "outputs": [
    {
     "data": {
      "text/plain": [
       "(250, 250, 50)"
      ]
     },
     "execution_count": 7,
     "metadata": {},
     "output_type": "execute_result"
    }
   ],
   "source": [
    "#Load the large dataset\n",
    "reader = vtk.vtkXMLImageDataReader()\n",
    "reader.SetFileName(\"Isabel_Pressure_25.vti\")\n",
    "reader.Update()\n",
    "imageData = reader.GetOutput() #read data\n",
    "#Convert the data into numpy array format\n",
    "temp = vtk_to_numpy(imageData.GetPointData().GetScalars())\n",
    "dims_s = imageData.GetDimensions()\n",
    "dat_s = temp.reshape(dims_s[2], dims_s[1], dims_s[0])\n",
    "dat_s = dat_s.transpose(2,1,0)\n",
    "original_data_s=dat_s\n",
    "\n",
    " #dimensions of the data\n",
    "dat_s.shape"
   ]
  },
  {
   "cell_type": "code",
   "execution_count": null,
   "metadata": {},
   "outputs": [],
   "source": [
    "# Random Sampling \n",
    "import numpy as np\n",
    "import vtk\n",
    "from vtk.util.numpy_support import numpy_to_vtk\n",
    "\n",
    "# Generate example 3D volume data (replace this with your actual data)\n",
    "\n",
    "# Specify the percentage of data you want to sample (e.g., 5%)\n",
    "sampling_percentage = 5\n",
    "\n",
    "# Calculate the number of sampled points\n",
    "num_sampled_points = int(np.prod(original_data.shape) * sampling_percentage / 100)\n",
    "\n",
    "# Randomly select sampled points\n",
    "sampled_coordinates = np.column_stack([\n",
    "    np.random.randint(0, original_data.shape[0], num_sampled_points),\n",
    "    np.random.randint(0, original_data.shape[1], num_sampled_points),\n",
    "    np.random.randint(0, original_data.shape[2], num_sampled_points)\n",
    "])\n",
    "\n",
    "# Extract the values at the sampled coordinates\n",
    "sampled_values = original_data[sampled_coordinates[:, 0], sampled_coordinates[:, 1], sampled_coordinates[:, 2]]\n",
    "\n",
    "# Create VTK Structured Grid\n",
    "structured_grid = vtk.vtkStructuredGrid()\n",
    "structured_grid.SetDimensions(original_data.shape)\n",
    "\n",
    "# Create vtkPoints and set the coordinates\n",
    "points = vtk.vtkPoints()\n",
    "points.SetData(numpy_to_vtk(sampled_coordinates.astype(np.float32)))\n",
    "structured_grid.SetPoints(points)\n",
    "\n",
    "# Convert the data type of the sampled_values to float32\n",
    "sampled_values = sampled_values.astype(np.float32)\n",
    "\n",
    "# Create a vtkFloatArray for the sampled values\n",
    "values_array = vtk.vtkFloatArray()\n",
    "values_array.SetNumberOfValues(num_sampled_points)\n",
    "values_array.SetArray(sampled_values, num_sampled_points, 1)\n",
    "\n",
    "# Add the values array to the point data of the grid\n",
    "structured_grid.GetPointData().SetScalars(values_array)\n",
    "\n",
    "# Write the structured grid to a VTS file\n",
    "writer = vtk.vtkXMLStructuredGridWriter()\n",
    "writer.SetFileName('sampled_data.vts')\n",
    "writer.SetInputData(structured_grid)\n",
    "writer.Write()\n"
   ]
  },
  {
   "cell_type": "code",
   "execution_count": 15,
   "metadata": {
    "scrolled": true
   },
   "outputs": [
    {
     "name": "stdout",
     "output_type": "stream",
     "text": [
      "249\n"
     ]
    },
    {
     "data": {
      "text/plain": [
       "'/home/aashi/Desktop/CS677_project/100%_reconstructed.vtr'"
      ]
     },
     "execution_count": 15,
     "metadata": {},
     "output_type": "execute_result"
    }
   ],
   "source": [
    "#Simple random Sampling\n",
    "# Define the percentage of data you have (e.g., 5%)\n",
    "    \n",
    "original_data=dat\n",
    "data_percentage =  5/100\n",
    "\n",
    "# Calculate the number of known data points\n",
    "num_known_points = int(np.prod(original_data.shape) * data_percentage)\n",
    "#print(num_known_points)\n",
    "# Randomly select known data points\n",
    "known_coordinates = np.column_stack([np.random.randint(0, 250, num_known_points),\n",
    "                                     np.random.randint(0, 250, num_known_points),\n",
    "                                     np.random.randint(0, 50, num_known_points)])\n",
    "# Extract the values at the known coordinates\n",
    "known_values = original_data[known_coordinates[:, 0], known_coordinates[:, 1], known_coordinates[:, 2]]\n",
    "#print(known_values.shape())\n",
    "# Create a grid of coordinates for the entire 3D space\n",
    "x = np.arange(original_data.shape[0])\n",
    "y = np.arange(original_data.shape[1])\n",
    "z = np.arange(original_data.shape[2])\n",
    "# Define the grid of coordinates for the entire 3D space\n",
    "grid_x, grid_y, grid_z = np.meshgrid(x, y, z, indexing='ij')\n",
    "print(np.max(known_coordinates))\n",
    "# Create an array of coordinates for the entire grid\n",
    "reconstructed_data = griddata(known_coordinates, known_values,(grid_x, grid_y, grid_z), method='nearest')\n",
    "# # Plot the reconstructed 3D surface\n",
    "gridToVTK(\"100%_reconstructed\", x=np.array(range(reconstructed_data.shape[0])), y=np.array(range(reconstructed_data.shape[1])), z=np.array(range(reconstructed_data.shape[2])), cellData={'data': reconstructed_data})\n",
    "# #ax.add_collection3d(mesh)\n",
    "# ax.set_xlabel('X-axis')\n",
    "# ax.set_ylabel('Y-axis')\n",
    "# ax.set_zlabel('Z-axis')\n",
    "# #plt.show()\n",
    "\n",
    "# You can visualize the reconstructed data using a library like Matplotlib or a 3D visualization library.\n",
    "# Create a 3D figure\n",
    "# fig = plt.figure(figsize=(12, 6))\n",
    "# # # Subplot for original data\n",
    "# ax1 = fig.add_subplot(121, projection='3d')\n",
    "# x, y, z = np.meshgrid(np.arange(original_data.shape[0]), np.arange(original_data.shape[1]), np.arange(original_data.shape[2]), indexing='ij')\n",
    "# ax1.scatter(x, y, z, c=original_data, marker='o',alpha=0.01)\n",
    "# ax1.set_xlabel('X-axis')\n",
    "# ax1.set_ylabel('Y-axis')\n",
    "# ax1.set_zlabel('Z-axis')\n",
    "# ax1.set_title('Original 3D Data')\n",
    "# # Subplot for reconstructed data\n",
    "# ax2 = fig.add_subplot(122, projection='3d')\n",
    "# ax2.scatter(x,y,z, c=reconstructed_data, marker='o',alpha=0.01)\n",
    "# ax2.set_xlabel('X-axis')\n",
    "# ax2.set_ylabel('Y-axis')\n",
    "# ax2.set_zlabel('Z-axis')\n",
    "# ax2.set_title('Reconstructed 3D Data')\n",
    "# # Display the plot\n",
    "# plt.show()"
   ]
  },
  {
   "cell_type": "code",
   "execution_count": 162,
   "metadata": {},
   "outputs": [
    {
     "name": "stdout",
     "output_type": "stream",
     "text": [
      "[[1.         0.58461689]\n",
      " [0.58461689 1.        ]]\n"
     ]
    }
   ],
   "source": [
    "original_flat = original_data.flatten()\n",
    "reconstructed_flat = reconstructed_data.flatten()\n",
    "# Calculate the correlation coefficient\n",
    "correlation_coefficient = np.corrcoef(original_flat, reconstructed_flat)\n",
    "print(correlation_coefficient)"
   ]
  },
  {
   "cell_type": "code",
   "execution_count": 51,
   "metadata": {
    "scrolled": false
   },
   "outputs": [],
   "source": [
    "# Interpolate and simuntaneously getting SNR\n",
    "snr_random = []\n",
    "k=1\n",
    "for i in range(1,100,10):\n",
    "    data_percentage =  i/100\n",
    "\n",
    "    # Calculate the number of known data points\n",
    "    num_known_points = int(np.prod(original_data.shape) * data_percentage)\n",
    "    #print(num_known_points)\n",
    "    # Randomly select known data points\n",
    "    known_coordinates = np.column_stack([np.random.randint(0, 250, num_known_points),\n",
    "                                         np.random.randint(0, 250, num_known_points),\n",
    "                                         np.random.randint(0, 50, num_known_points)])\n",
    "    # Extract the values at the known coordinates\n",
    "    known_values = original_data[known_coordinates[:, 0], known_coordinates[:, 1], known_coordinates[:, 2]]\n",
    "    #print(known_values.shape())\n",
    "    # Create a grid of coordinates for the entire 3D space\n",
    "    x = np.arange(original_data.shape[0])\n",
    "    y = np.arange(original_data.shape[1])\n",
    "    z = np.arange(original_data.shape[2])\n",
    "\n",
    "    # Define the grid of coordinates for the entire 3D space\n",
    "    grid_x, grid_y, grid_z = np.meshgrid(x, y, z, indexing='ij')\n",
    "    # Create an array of coordinates for the entire grid\n",
    "    reconstructed_data = griddata(known_coordinates, known_values, (grid_x, grid_y, grid_z), method='nearest')\n",
    "    signal_power = np.std(original_data)  # For mean power, you can also use np.max(original_data) for peak power\n",
    "\n",
    "    # Calculate the mean or peak noise power\n",
    "    noise = original_data - reconstructed_data\n",
    "    noise_power = np.std(noise)  # For mean power, you can also use np.max(noise ** 2) for peak power\n",
    "\n",
    "    # Calculate SNR\n",
    "    snr.append(20*np.log10(signal_power/noise_power))\n",
    "   # print(snr)\n",
    "    k= k+1\n",
    "\n",
    "\n",
    "\n"
   ]
  },
  {
   "cell_type": "code",
   "execution_count": 20,
   "metadata": {},
   "outputs": [
    {
     "data": {
      "text/plain": [
       "Text(0, 0.5, 'SNR values')"
      ]
     },
     "execution_count": 20,
     "metadata": {},
     "output_type": "execute_result"
    },
    {
     "data": {
      "image/png": "[encoded data removed]",
      "text/plain": [
       "<Figure size 432x288 with 1 Axes>"
      ]
     },
     "metadata": {
      "needs_background": "light"
     },
     "output_type": "display_data"
    }
   ],
   "source": [
    "plt.plot(range(0,100,10),snr,\"-o\")\n",
    "plt.xlabel(\"Sampling percentage\")\n",
    "plt.ylabel(\"SNR values\")"
   ]
  },
  {
   "cell_type": "code",
   "execution_count": 10,
   "metadata": {
    "scrolled": true
   },
   "outputs": [],
   "source": [
    "#Gradient-based sampling\n",
    "import vtk\n",
    "import numpy as np\n",
    "from scipy.interpolate import griddata\n",
    "from vtk.util.numpy_support import numpy_to_vtk\n",
    "\n",
    "# Load VTP file\n",
    "file_path = \"/home/aashi/Desktop/CS677_project/Isabel_small_vbs_0.001.vtp\"\n",
    "reader = vtk.vtkXMLPolyDataReader()\n",
    "reader.SetFileName(file_path)\n",
    "reader.Update()\n",
    "\n",
    "# Get point data from the VTP file\n",
    "points = reader.GetOutput().GetPoints()\n",
    "coordinates = np.array([points.GetPoint(i) for i in range(points.GetNumberOfPoints())])\n",
    "\n",
    "# Get scalar data (pixel values) associated with the points\n",
    "scalar_data = reader.GetOutput().GetPointData().GetScalars()\n",
    "\n",
    "# Create a regular grid covering the entire volume\n",
    "x_grid, y_grid, z_grid = np.meshgrid(np.arange(250), np.arange(250), np.arange(50), indexing='ij')\n",
    "all_coordinates = np.column_stack((x_grid.ravel(), y_grid.ravel(), z_grid.ravel()))\n",
    "\n",
    "# Interpolate pixel values for all coordinates in the volume\n",
    "if scalar_data:\n",
    "    x_known, y_known, z_known = coordinates.T\n",
    "    known_pixel_values = np.array([scalar_data.GetValue(i) for i in range(scalar_data.GetNumberOfTuples())])\n",
    "\n",
    "    interpolated_gbs = griddata((x_known, y_known, z_known), known_pixel_values, all_coordinates, method='linear')\n",
    "   # interpolated_gbs= np.nan_to_num(interpolated_gbs, nan=0.0)  # Replace NaN values with 0.0 or another appropriate value\n",
    "\n",
    "   # print(\"Interpolated pixel values for all coordinates:\", interpolated_pixel_values)\n",
    "    # Save the reconstructed volume data to a new VTP file\\\n",
    "\n",
    "    # Save the reconstructed volume data using gridToVTK\n",
    "   # gridToVTK(\"reconstructed_data\", x_grid, y_grid, z_grid, pointData={\"pixel_values\": interpolated_gbs})\n",
    "    #print(\"Reconstructed volume data saved to 'reconstructed_data.vts'\")\n",
    "\n",
    "\n",
    "#     print(\"No scalar data found in the VTP file.\")\n",
    "# # Create a 3D figure\n",
    "# fig = plt.figure(figsize=(12, 6))\n",
    "# # # Subplot for original data\n",
    "# ax1 = fig.add_subplot(121, projection='3d')\n",
    "# x, y, z = np.meshgrid(np.arange(250), np.arange(250), np.arange(50), indexing='ij')\n",
    "# ax1.scatter(x, y, z, c=original_data,cmap='Accent',marker='o',alpha=0.01)\n",
    "# ax1.set_xlabel('X-axis')\n",
    "# ax1.set_ylabel('Y-axis')\n",
    "# ax1.set_zlabel('Z-axis')\n",
    "# ax1.set_title('Original 3D Data')\n",
    "# # Subplot for reconstructed data\n",
    "# ax2 = fig.add_subplot(122, projection='3d')\n",
    "# ax2.scatter(x,y,z, c=interpolated_vbs,cmap='Accent',marker='o',alpha=0.01)\n",
    "# ax2.set_xlabel('X-axis')\n",
    "# ax2.set_ylabel('Y-axis')\n",
    "# ax2.set_zlabel('Z-axis')\n",
    "# ax2.set_title('Reconstructed 3D Data')\n",
    "# # Display the plot\n",
    "# plt.show()"
   ]
  },
  {
   "cell_type": "code",
   "execution_count": 20,
   "metadata": {},
   "outputs": [
    {
     "name": "stdout",
     "output_type": "stream",
     "text": [
      "Reconstructed volume data saved to 'reconstructed_data.vts'\n",
      "Reconstructed volume data saved to 'reconstructed_data.vts'\n",
      "Reconstructed volume data saved to 'reconstructed_data.vts'\n",
      "Reconstructed volume data saved to 'reconstructed_data.vts'\n",
      "Reconstructed volume data saved to 'reconstructed_data.vts'\n"
     ]
    }
   ],
   "source": [
    "\n",
    "# Load VTP file\n",
    "for i in range(1,6):\n",
    "    file_path = f'/home/aashi/Desktop/CS677_project/'\n",
    "    reader = vtk.vtkXMLPolyDataReader()\n",
    "    reader.SetFileName(file_path)\n",
    "    reader.Update()\n",
    "\n",
    "    # Get point data from the VTP file\n",
    "    points = reader.GetOutput().GetPoints()\n",
    "    coordinates = np.array([points.GetPoint(i) for i in range(points.GetNumberOfPoints())])\n",
    "\n",
    "    # Get scalar data (pixel values) associated with the points\n",
    "    scalar_data = reader.GetOutput().GetPointData().GetScalars()\n",
    "\n",
    "    # Create a regular grid covering the entire volume\n",
    "    x_grid, y_grid, z_grid = np.meshgrid(np.arange(250), np.arange(250), np.arange(50), indexing='ij')\n",
    "    #all_coordinates = np.column_stack((x_grid.ravel(), y_grid.ravel(), z_grid.ravel()))\n",
    "\n",
    "    # Interpolate pixel values for all coordinates in the volume\n",
    "    if scalar_data:\n",
    "        x_known, y_known, z_known = coordinates.T\n",
    "        known_pixel_values = np.array([scalar_data.GetValue(i) for i in range(scalar_data.GetNumberOfTuples())])\n",
    "\n",
    "        interpolated_val = griddata((x_known, y_known, z_known), known_pixel_values,(x_grid, y_grid, z_grid), method='nearest')\n",
    "       # interpolated_vbs = np.nan_to_num(interpolated_vbs, nan=0.0)  # Replace NaN values with 0.0 or another appropriate value\n",
    "\n",
    "       # print(\"Interpolated pixel values for all coordinates:\", )\n",
    "        # Save the reconstructed volume data to a new VTP file\\\n",
    "\n",
    "        # Save the reconstructed volume data using gridToVTK\n",
    "         # Save the reconstructed volume data using gridToVTK\n",
    "        gridToVTK(f\"srs_small_reconstructed{i}\", x_grid, y_grid, z_grid, pointData={\"pixel_values\": interpolated_val})\n",
    "        print(\"Reconstructed volume data saved to 'reconstructed_data.vts'\")\n",
    "\n",
    "        "
   ]
  },
  {
   "cell_type": "code",
   "execution_count": 16,
   "metadata": {
    "scrolled": false
   },
   "outputs": [
    {
     "name": "stdout",
     "output_type": "stream",
     "text": [
      "1\n",
      "[23.01464080810547]\n",
      "2\n",
      "[23.01464080810547, 27.55176305770874]\n",
      "3\n",
      "[23.01464080810547, 27.55176305770874, 29.129889011383057]\n",
      "4\n",
      "[23.01464080810547, 27.55176305770874, 29.129889011383057, 30.108261108398438]\n",
      "5\n",
      "[23.01464080810547, 27.55176305770874, 29.129889011383057, 30.108261108398438, 30.802443027496338]\n"
     ]
    }
   ],
   "source": [
    "#loading reconstructed data for each method\n",
    "signal_power = np.std(original_data)  # For mean power, you can also use np.max(original_data) for peak power\n",
    "gbs_snr=[]\n",
    "correlation_coefficient_gbs=[]\n",
    "k=0\n",
    "for i in range(1,6):\n",
    "    #Load the dataset\n",
    "    reader = vtk.vtkXMLImageDataReader()\n",
    "    reader.SetFileName(f\"gbs_0.0{i}_recon.vti\")\n",
    "    reader.Update()\n",
    "    print(i)\n",
    "    imageData = reader.GetOutput() #read data\n",
    "    #Convert the data into numpy array format\n",
    "    temp = vtk_to_numpy(imageData.GetPointData().GetScalars())\n",
    "    dims_srs = imageData.GetDimensions()\n",
    "    srs = temp.reshape(dims_srs[2], dims_srs[1], dims_srs[0])\n",
    "    srs = srs.transpose(2,1,0)\n",
    "\n",
    "    # Calculate the mean or peak noise power\n",
    "    noise = original_data - srs\n",
    "    noise_power = np.std(noise)  # For mean power, you can also use np.max(noise ** 2) for peak power\n",
    "\n",
    "    # Calculate SNR\n",
    "    gbs_snr.append(20*np.log10(signal_power/(noise_power)))\n",
    "    print(gbs_snr)\n",
    "    #calculate correlation\n",
    "\n",
    "    # Flatten the 3D arrays to 1D arrays\n",
    "    original_flat = original_data.flatten()\n",
    "    reconstructed_flat = srs.flatten()\n",
    "    # Calculate the correlation coefficient\n",
    "    correlation_coefficient_gbs.append(np.corrcoef(original_flat,reconstructed_flat)[0,1])\n",
    "\n"
   ]
  },
  {
   "cell_type": "code",
   "execution_count": 26,
   "metadata": {},
   "outputs": [
    {
     "data": {
      "text/plain": [
       "Text(0.5, 1.0, 'GBS method')"
      ]
     },
     "execution_count": 26,
     "metadata": {},
     "output_type": "execute_result"
    },
    {
     "data": {
      "image/png": "[encoded data removed]",
      "text/plain": [
       "<Figure size 432x288 with 1 Axes>"
      ]
     },
     "metadata": {
      "needs_background": "light"
     },
     "output_type": "display_data"
    }
   ],
   "source": [
    "#plotting SNR for VBS\n",
    "plt.plot(range(1,6),gbs_snr,\"-o\")\n",
    "plt.xlabel(\"Sampling percentage\")\n",
    "plt.ylabel(\"SNR value\")\n",
    "plt.title(\"GBS method\")"
   ]
  },
  {
   "cell_type": "code",
   "execution_count": 23,
   "metadata": {
    "scrolled": true
   },
   "outputs": [
    {
     "data": {
      "text/plain": [
       "Text(0.5, 1.0, 'GBS method')"
      ]
     },
     "execution_count": 23,
     "metadata": {},
     "output_type": "execute_result"
    },
    {
     "data": {
      "image/png": "[encoded data removed]",
      "text/plain": [
       "<Figure size 432x288 with 1 Axes>"
      ]
     },
     "metadata": {
      "needs_background": "light"
     },
     "output_type": "display_data"
    }
   ],
   "source": [
    "# plotting correlation\n",
    "plt.plot(range(1,6),correlation_coefficient_gbs,\"-o\")\n",
    "plt.xlabel(\"Sampling percentage\")\n",
    "plt.ylabel(\"Correlation-original and reconstructed Data\")\n",
    "plt.title(\"GBS method\")"
   ]
  },
  {
   "cell_type": "code",
   "execution_count": 24,
   "metadata": {
    "scrolled": true
   },
   "outputs": [
    {
     "data": {
      "image/png": "[encoded data removed]",
      "text/plain": [
       "<Figure size 432x288 with 1 Axes>"
      ]
     },
     "metadata": {
      "needs_background": "light"
     },
     "output_type": "display_data"
    }
   ],
   "source": [
    "import matplotlib.pyplot as plt\n",
    "import numpy as np\n",
    "\n",
    "# Generate example data for three different methods\n",
    "num_points = 50\n",
    "# Create a line plot with different colors for each method\n",
    "plt.plot(range(1,6),gbs_snr,color='blue', label='Gradient Based sampling')\n",
    "plt.plot(range(1,6), vbs_snr, color='green', label='Value based Sampling')\n",
    "\n",
    "# Add labels and legend\n",
    "plt.xlabel('Sample-Ratio')\n",
    "plt.ylabel('SNR')\n",
    "plt.title('Comparision ')\n",
    "plt.legend()\n",
    "\n",
    "# Show the plot\n",
    "plt.show()\n",
    "\n"
   ]
  },
  {
   "cell_type": "code",
   "execution_count": 25,
   "metadata": {},
   "outputs": [
    {
     "data": {
      "image/png": "[encoded data removed]",
      "text/plain": [
       "<Figure size 432x288 with 1 Axes>"
      ]
     },
     "metadata": {
      "needs_background": "light"
     },
     "output_type": "display_data"
    }
   ],
   "source": [
    "import matplotlib.pyplot as plt\n",
    "import numpy as np\n",
    "\n",
    "# Generate example data for three different methods\n",
    "num_points = 50\n",
    "# Create a line plot with different colors for each method\n",
    "plt.plot(range(1,6),correlation_coefficient_gbs,color='blue', label='Gradient Based Sampling')\n",
    "plt.plot(range(1,6), correlation_coefficient_vbs, color='green', label='Value based Sampling')\n",
    "\n",
    "# Add labels and legend\n",
    "plt.xlabel('Sample ratio')\n",
    "plt.ylabel('Correlation')\n",
    "plt.title('Line Plot for Different Methods')\n",
    "plt.legend()\n",
    "\n",
    "# Show the plot\n",
    "plt.show()\n",
    "\n"
   ]
  }
 ],
 "metadata": {
  "kernelspec": {
   "display_name": "Python 3",
   "language": "python",
   "name": "python3"
  },
  "language_info": {
   "codemirror_mode": {
    "name": "ipython",
    "version": 3
   },
   "file_extension": ".py",
   "mimetype": "text/x-python",
   "name": "python",
   "nbconvert_exporter": "python",
   "pygments_lexer": "ipython3",
   "version": "3.8.10"
  }
 },
 "nbformat": 4,
 "nbformat_minor": 5
}
