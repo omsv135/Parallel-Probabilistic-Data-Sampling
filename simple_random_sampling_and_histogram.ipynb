{
 "cells": [
  {
   "cell_type": "code",
   "execution_count": 1,
   "id": "8431dc47",
   "metadata": {},
   "outputs": [],
   "source": [
    "#Import all the necessary libraries\n",
    "import vtk\n",
    "import numpy as np\n",
    "from vtk.util.numpy_support import vtk_to_numpy\n",
    "import math\n",
    "import pyevtk\n",
    "from matplotlib import pyplot as plt"
   ]
  },
  {
   "cell_type": "code",
   "execution_count": 2,
   "id": "568cb5ad",
   "metadata": {},
   "outputs": [],
   "source": [
    "#Load the dataset\n",
    "reader = vtk.vtkXMLImageDataReader()\n",
    "reader.SetFileName(\"Isabel_Pressure_25.vti\")\n",
    "reader.Update()\n",
    "imageData = reader.GetOutput() #read data"
   ]
  },
  {
   "cell_type": "code",
   "execution_count": 3,
   "id": "0e17cad3",
   "metadata": {},
   "outputs": [
    {
     "data": {
      "text/plain": [
       "(250, 250, 50)"
      ]
     },
     "execution_count": 3,
     "metadata": {},
     "output_type": "execute_result"
    }
   ],
   "source": [
    "#Convert the data into numpy array format\n",
    "temp = vtk_to_numpy(imageData.GetPointData().GetScalars())\n",
    "dims = imageData.GetDimensions()\n",
    "dat = temp.reshape(dims[2], dims[1], dims[0])\n",
    "dat = dat.transpose(2, 1, 0)\n",
    "\n",
    "dims #dimensions of the data\n",
    "#dat[249][249][49]"
   ]
  },
  {
   "cell_type": "code",
   "execution_count": 4,
   "id": "3e0c404e",
   "metadata": {},
   "outputs": [],
   "source": [
    "eta = 0.2 #User-defined sampling fraction/ratio\n",
    "np.random.seed(0)"
   ]
  },
  {
   "cell_type": "code",
   "execution_count": 5,
   "id": "56377554",
   "metadata": {},
   "outputs": [
    {
     "data": {
      "text/plain": [
       "'/Users/palakmishra/Documents/srs.vti'"
      ]
     },
     "execution_count": 5,
     "metadata": {},
     "output_type": "execute_result"
    }
   ],
   "source": [
    "#Simple Random Sampling\n",
    "\n",
    "r = np.random.uniform(0, 1, size = dims[0]*dims[1]*dims[2])\n",
    "r = r.reshape(dims[0], dims[1], dims[2])\n",
    "\n",
    "res = np.zeros((dims[0], dims[1], dims[2]))\n",
    "res.fill(np.nan)\n",
    "\n",
    "for i in range(dims[0]):\n",
    "    for j in range(dims[1]):\n",
    "        for k in range(dims[2]):\n",
    "            if r[i][j][k] < eta:\n",
    "                res[i][j][k] = dat[i][j][k]\n",
    "                \n",
    "pyevtk.hl.imageToVTK('./srs', cellData = {'pressure': res}) #Create visualization of the modified image"
   ]
  },
  {
   "cell_type": "code",
   "execution_count": 6,
   "id": "64af8ae7",
   "metadata": {},
   "outputs": [
    {
     "data": {
      "image/png": "[encoded data removed]",
      "text/plain": [
       "<Figure size 720x504 with 1 Axes>"
      ]
     },
     "metadata": {
      "needs_background": "light"
     },
     "output_type": "display_data"
    },
    {
     "data": {
      "text/plain": [
       "'/Users/palakmishra/Documents/vbis.vti'"
      ]
     },
     "execution_count": 6,
     "metadata": {},
     "output_type": "execute_result"
    }
   ],
   "source": [
    "#Value-Based Importance Sampling\n",
    "\n",
    "N = dims[0]*dims[1]*dims[2]\n",
    "M = eta*N\n",
    "D = dat.reshape(N)\n",
    "\n",
    "#User-defined parameter:\n",
    "B = 35 #Number of bins\n",
    "\n",
    "#Histogram of the data\n",
    "fig, ax = plt.subplots(figsize =(10, 7))\n",
    "ax.hist(D, bins = B)\n",
    "plt.show()\n",
    "\n",
    "uniqueValues, counts = np.unique(dat, return_counts=True)\n",
    "sortedBins, _ = np.histogram(uniqueValues, bins=B, weights=counts)\n",
    "H = sortedBins\n",
    "dic = dict()\n",
    "for i in range(B):\n",
    "    dic[H[i]] = i\n",
    "dic = dict(sorted(dic.items()))\n",
    "H = list(dic.keys())\n",
    "\n",
    "If = np.zeros(B)\n",
    "C = M/B\n",
    "temp = B\n",
    "\n",
    "#Importance sampling algorithm\n",
    "j = 0\n",
    "while j < B:\n",
    "    cj = H[j]\n",
    "    if cj < C:\n",
    "        If[j] = cj\n",
    "        M = M-cj\n",
    "        temp -= 1\n",
    "        C = M/temp\n",
    "        j += 1\n",
    "    else:\n",
    "        for k in range(j, B):\n",
    "            If[k] = C\n",
    "        break\n",
    "\n",
    "#Normalization\n",
    "for j in range(0, B):\n",
    "    If[j] = If[j]/H[j]\n",
    "    \n",
    "i = 0\n",
    "dic2 = dict()\n",
    "for j in range(B):\n",
    "    dic2[sortedBins[j]] = 0\n",
    "for key in dic:\n",
    "    dic2[sortedBins[dic[key]]] = If[i]\n",
    "    i += 1\n",
    "If = list(dic2.values())\n",
    "\n",
    "res = np.zeros(dims[0]*dims[1]*dims[2])\n",
    "res.fill(np.nan)\n",
    "\n",
    "#Accept-Reject algorithm\n",
    "rangeOfDat = dat.max()-dat.min()\n",
    "prop = rangeOfDat/B\n",
    "for i in range(B):\n",
    "    idx = np.where(np.logical_and(D >= dat.min() + math.floor(prop)*i, D <= dat.min() + math.floor(prop)*(i+1)))\n",
    "    r = np.random.uniform(0, 1, size = idx[0].shape)\n",
    "    for j in range(idx[0].shape[0]):\n",
    "        if r[j] < If[i]:\n",
    "            res[idx[0][j]] = D[idx[0][j]]\n",
    "res = res.reshape((dims[0], dims[1], dims[2]))\n",
    "\n",
    "pyevtk.hl.imageToVTK('./vbis', cellData = {'pressure': res}) #Create visualization of the modified image"
   ]
  }
 ],
 "metadata": {
  "kernelspec": {
   "display_name": "Python 3 (ipykernel)",
   "language": "python",
   "name": "python3"
  },
  "language_info": {
   "codemirror_mode": {
    "name": "ipython",
    "version": 3
   },
   "file_extension": ".py",
   "mimetype": "text/x-python",
   "name": "python",
   "nbconvert_exporter": "python",
   "pygments_lexer": "ipython3",
   "version": "3.9.7"
  }
 },
 "nbformat": 4,
 "nbformat_minor": 5
}
